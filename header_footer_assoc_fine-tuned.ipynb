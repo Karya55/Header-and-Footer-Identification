{
 "cells": [
  {
   "cell_type": "code",
   "execution_count": 36,
   "metadata": {},
   "outputs": [],
   "source": [
    "import cv2\n",
    "import pytesseract\n",
    "from bs4 import BeautifulSoup"
   ]
  },
  {
   "cell_type": "code",
   "execution_count": 38,
   "metadata": {},
   "outputs": [],
   "source": [
    "def detect_headers_footers(image_path):\n",
    "    image = cv2.imread(image_path, cv2.IMREAD_GRAYSCALE) # Read the image using OpenCV\n",
    "    text_boxes = pytesseract.image_to_boxes(image, config='--oem 1 --psm 6').splitlines()\n",
    "    text_boxes = [(int(box.split()[1]), int(box.split()[2]), int(box.split()[3]), int(box.split()[4])) for box in text_boxes]\n",
    "\n",
    "    headers = []\n",
    "    footers = []\n",
    "    for box in text_boxes:\n",
    "        _, y, _, _ = box\n",
    "        if y < image.shape[0] / 3:\n",
    "            headers.append(box)\n",
    "        elif y > 2 * image.shape[0] / 3:\n",
    "            footers.append(box) \n",
    "    return headers, footers\n",
    "# ---------------- (detecting headers and footers)"
   ]
  },
  {
   "cell_type": "code",
   "execution_count": 41,
   "metadata": {},
   "outputs": [],
   "source": [
    "def perform_ocr_with_hocr(image_path):\n",
    "    hocr_output = pytesseract.image_to_pdf_or_hocr(image_path, extension='hocr', config='--oem 1')\n",
    "# ----------- (performing OCR and generating hOCR output)\n",
    "    return hocr_output"
   ]
  },
  {
   "cell_type": "code",
   "execution_count": 44,
   "metadata": {},
   "outputs": [],
   "source": [
    "def extract_header_footer_positions(hocr_output):\n",
    "    if 'ocrx_word' in div.get('class', []):\n",
    "            word_id = div['id']\n",
    "            word_text = div.get_text()\n",
    "            bbox = div['title'].split(';')[0].split()[1:]\n",
    "            x, y, w, h = [int(coord) for coord in bbox]\n",
    "            \n",
    "            if y < image.shape[0] / 3:\n",
    "                headers[word_id] = {'text': word_text, 'position': (x, y, w, h)}\n",
    "            elif y > 2 * image.shape[0] / 3:\n",
    "                footers[word_id] = {'text': word_text, 'position': (x, y, w, h)}\n",
    "                # ------------(extracting header and footer positions from hOCR output)\n",
    "    return headers, footers"
   ]
  },
  {
   "cell_type": "code",
   "execution_count": null,
   "metadata": {},
   "outputs": [],
   "source": [
    "def extract_content_text(image_path, content_boxes):\n",
    "    content_text = []\n",
    "\n",
    "    for box in content_boxes:\n",
    "        x, y, w, h = box\n",
    "        content_image = cv2.imread(image_path, cv2.IMREAD_GRAYSCALE)[y:y+h, x:x+w]\n",
    "        \n",
    "        custom_config = r'--oem 3 --psm 6'  # Tesseract configuration for single line detection\n",
    "        content = pytesseract.image_to_string(content_image, config=custom_config)\n",
    "        \n",
    "        content_text.append((box, content))\n",
    "        # ... (extracting content text using OCR)\n",
    "    return content_text"
   ]
  },
  {
   "cell_type": "code",
   "execution_count": 45,
   "metadata": {},
   "outputs": [],
   "source": [
    "def link_hocr_ids_to_content(content_text, headers, footers, threshold):\n",
    "    linked_content = []\n",
    "\n",
    "    for content_box, content in content_text:\n",
    "        linked_ids = []\n",
    "        content_x, content_y, _, _ = content_box\n",
    "        \n",
    "        for hocr_id, header_info in headers.items():\n",
    "            header_x, header_y, _, _ = header_info['position']\n",
    "            if abs(content_x - header_x) < threshold and abs(content_y - header_y) < threshold:\n",
    "                linked_ids.append((hocr_id, header_info['text']))\n",
    "        \n",
    "        for hocr_id, footer_info in footers.items():\n",
    "            footer_x, footer_y, _, _ = footer_info['position']\n",
    "            if abs(content_x - footer_x) < threshold and abs(content_y - footer_y) < threshold:\n",
    "                linked_ids.append((hocr_id, footer_info['text']))\n",
    "        \n",
    "        linked_content.append((content_box, content, linked_ids))\n",
    "        # ------------ (linking content with headers and footers)\n",
    "    return linked_content"
   ]
  },
  {
   "cell_type": "code",
   "execution_count": 46,
   "metadata": {},
   "outputs": [],
   "source": [
    "# image path\n",
    "image_path = 'C:/Users/ukary/OneDrive/Masaüstü/page_171.png'"
   ]
  },
  {
   "cell_type": "code",
   "execution_count": null,
   "metadata": {},
   "outputs": [],
   "source": [
    "# Detect headers and footers\n",
    "headers, footers = detect_headers_footers(image_path)"
   ]
  },
  {
   "cell_type": "code",
   "execution_count": null,
   "metadata": {},
   "outputs": [],
   "source": [
    "# Perform OCR and generate hOCR output\n",
    "hocr_output = perform_ocr_with_hocr(image_path)"
   ]
  },
  {
   "cell_type": "code",
   "execution_count": null,
   "metadata": {},
   "outputs": [],
   "source": [
    "# Extract header and footer positions from hOCR output\n",
    "headers, footers = extract_header_footer_positions(hocr_output)"
   ]
  },
  {
   "cell_type": "code",
   "execution_count": 49,
   "metadata": {},
   "outputs": [],
   "source": [
    "# threshold for linking\n",
    "threshold = 20"
   ]
  },
  {
   "cell_type": "code",
   "execution_count": null,
   "metadata": {},
   "outputs": [],
   "source": [
    "# Extract content boxes\n",
    "content_boxes = (238, 22, 194,  320) #(x1, y1, x2, y2)"
   ]
  },
  {
   "cell_type": "code",
   "execution_count": null,
   "metadata": {},
   "outputs": [],
   "source": [
    "# Extract content text\n",
    "content_text = extract_content_text(image_path, content_boxes)"
   ]
  },
  {
   "cell_type": "code",
   "execution_count": null,
   "metadata": {},
   "outputs": [],
   "source": [
    "# Link content with headers and footers based on IDs\n",
    "linked_content = link_hocr_ids_to_content(content_text, headers, footers, threshold)"
   ]
  },
  {
   "cell_type": "code",
   "execution_count": null,
   "metadata": {},
   "outputs": [],
   "source": [
    "# Print the linked content\n",
    "for content_box, content, linked_ids in linked_content:\n",
    "    print(\"Content:\", content)\n",
    "    for hocr_id, linked_text in linked_ids:\n",
    "        print(\"Linked ID:\", hocr_id, \"Linked Text:\", linked_text)"
   ]
  }
 ],
 "metadata": {
  "kernelspec": {
   "display_name": "base",
   "language": "python",
   "name": "python3"
  },
  "language_info": {
   "codemirror_mode": {
    "name": "ipython",
    "version": 3
   },
   "file_extension": ".py",
   "mimetype": "text/x-python",
   "name": "python",
   "nbconvert_exporter": "python",
   "pygments_lexer": "ipython3",
   "version": "3.8.11"
  },
  "orig_nbformat": 4
 },
 "nbformat": 4,
 "nbformat_minor": 2
}
