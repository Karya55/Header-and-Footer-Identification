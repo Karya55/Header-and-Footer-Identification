{
 "cells": [
  {
   "cell_type": "code",
   "execution_count": null,
   "metadata": {},
   "outputs": [],
   "source": [
    "import cv2\n",
    "import pytesseract\n",
    "\n",
    "def detect_headers_footers(image_path):\n",
    "    image = cv2.imread(image_path, cv2.IMREAD_GRAYSCALE)  # Read image in grayscale\n",
    "    # If the image is already binary (black and white), might not need edge detection\n",
    "    # If not binary, you can apply thresholding to convert it to binary\n",
    "    \n",
    "    # Perform text region detection using pytesseract\n",
    "    custom_config = r'--oem 3 --psm 6'  # Tesseract configuration for single line detection\n",
    "    text_boxes = pytesseract.image_to_boxes(image, config=custom_config).splitlines()\n",
    "    \n",
    "    # Convert text boxes to a list of tuples (x, y, w, h) for convenience\n",
    "    text_boxes = [(int(box.split()[1]), int(box.split()[2]), int(box.split()[3]), int(box.split()[4])) for box in text_boxes]\n",
    "    \n",
    "    # Identify header and footer regions based on layout analysis and position\n",
    "    headers = []\n",
    "    footers = []\n",
    "    for box in text_boxes:\n",
    "        x, y, w, h = box\n",
    "        if y < image.shape[0] / 3:\n",
    "            headers.append(box)\n",
    "        elif y > 2 * image.shape[0] / 3:\n",
    "            footers.append(box)\n",
    "    \n",
    "    return headers, footers\n",
    "\n",
    "image_path = 'C:\\Users\\ukary\\OneDrive\\Masaüstü\\header_footer_data\\340.023.TAN.A.2023_1678965427_page_60.jpg'\n",
    "headers, footers = detect_headers_footers(image_path)\n",
    "print(\"Detected headers:\", headers)\n",
    "print(\"Detected footers:\", footers)\n"
   ]
  },
  {
   "cell_type": "code",
   "execution_count": null,
   "metadata": {},
   "outputs": [],
   "source": [
    "def perform_ocr_with_hocr(image_path):\n",
    "    hocr_output = pytesseract.image_to_pdf_or_hocr(image_path, extension='hocr', config='--oem 1')\n",
    "    return hocr_output\n",
    "\n"
   ]
  },
  {
   "cell_type": "code",
   "execution_count": null,
   "metadata": {},
   "outputs": [],
   "source": [
    "from bs4 import BeautifulSoup\n",
    "\n",
    "def extract_header_footer_positions(hocr_output):\n",
    "    soup = BeautifulSoup(hocr_output, 'html.parser')\n",
    "    headers = {}\n",
    "    footers = {}\n",
    "    \n",
    "    for div in soup.find_all('div'):\n",
    "        if 'ocrx_word' in div.get('class', []):\n",
    "            word_id = div['id']\n",
    "            word_text = div.get_text()\n",
    "            bbox = div['title'].split(';')[0].split()[1:]\n",
    "            x, y, w, h = [int(coord) for coord in bbox]\n",
    "            \n",
    "            if y < image.shape[0] / 3:\n",
    "                headers[word_id] = {'text': word_text, 'position': (x, y, w, h)}\n",
    "            elif y > 2 * image.shape[0] / 3:\n",
    "                footers[word_id] = {'text': word_text, 'position': (x, y, w, h)}\n",
    "    \n",
    "    return headers, footers\n"
   ]
  },
  {
   "cell_type": "code",
   "execution_count": null,
   "metadata": {},
   "outputs": [],
   "source": [
    "def link_hocr_ids_to_content(content_text, headers, footers, threshold):\n",
    "    linked_content = []\n",
    "    threshold = 20\n",
    "    \n",
    "    for content_box, content in content_text:\n",
    "        linked_ids = []\n",
    "        content_x, content_y, _, _ = content_box\n",
    "        \n",
    "        for hocr_id, header_info in headers.items():\n",
    "            header_x, header_y, _, _ = header_info['position']\n",
    "            if abs(content_x - header_x) < threshold and abs(content_y - header_y) < threshold:\n",
    "                linked_ids.append((hocr_id, header_info['text']))\n",
    "        \n",
    "        for hocr_id, footer_info in footers.items():\n",
    "            footer_x, footer_y, _, _ = footer_info['position']\n",
    "            if abs(content_x - footer_x) < threshold and abs(content_y - footer_y) < threshold:\n",
    "                linked_ids.append((hocr_id, footer_info['text']))\n",
    "        \n",
    "        linked_content.append((content_box, content, linked_ids))\n",
    "    \n",
    "    return linked_content\n"
   ]
  },
  {
   "cell_type": "code",
   "execution_count": null,
   "metadata": {},
   "outputs": [],
   "source": [
    "hocr_output = perform_ocr_with_hocr(image_path)\n",
    "headers, footers = extract_header_footer_positions(hocr_output)\n",
    "linked_content = link_hocr_ids_to_content(content_text, headers, footers)\n",
    "\n",
    "for content_box, content, linked_ids in linked_content:\n",
    "    print(\"Content:\", content)\n",
    "    for hocr_id, linked_text in linked_ids:\n",
    "        print(\"Linked ID:\", hocr_id, \"Linked Text:\", linked_text)"
   ]
  }
 ],
 "metadata": {
  "language_info": {
   "name": "python"
  },
  "orig_nbformat": 4
 },
 "nbformat": 4,
 "nbformat_minor": 2
}
